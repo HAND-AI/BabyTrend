{
 "cells": [
  {
   "cell_type": "raw",
   "metadata": {
    "vscode": {
     "languageId": "raw"
    }
   },
   "source": [
    "# 后端功能测试\n",
    "\n",
    "这个 notebook 用于测试后端 API 的各项功能。请确保后端服务器已经启动。\n"
   ]
  },
  {
   "cell_type": "code",
   "execution_count": 1,
   "metadata": {},
   "outputs": [],
   "source": [
    "import requests\n",
    "import json\n",
    "from datetime import datetime\n",
    "\n",
    "# 基础 URL\n",
    "BASE_URL = 'http://localhost:5000/api'\n"
   ]
  },
  {
   "cell_type": "raw",
   "metadata": {
    "vscode": {
     "languageId": "raw"
    }
   },
   "source": [
    "## 1. 认证测试\n"
   ]
  },
  {
   "cell_type": "code",
   "execution_count": 2,
   "metadata": {},
   "outputs": [
    {
     "name": "stdout",
     "output_type": "stream",
     "text": [
      "注册测试失败: HTTPConnectionPool(host='localhost', port=5000): Max retries exceeded with url: /api/auth/register (Caused by NewConnectionError('<urllib3.connection.HTTPConnection object at 0x00000266F1829090>: Failed to establish a new connection: [WinError 10061] No connection could be made because the target machine actively refused it'))\n",
      "登录测试失败: HTTPConnectionPool(host='localhost', port=5000): Max retries exceeded with url: /api/auth/login (Caused by NewConnectionError('<urllib3.connection.HTTPConnection object at 0x00000266F182B4D0>: Failed to establish a new connection: [WinError 10061] No connection could be made because the target machine actively refused it'))\n"
     ]
    }
   ],
   "source": [
    "def test_auth():\n",
    "    # 测试注册\n",
    "    register_data = {\n",
    "        'username': 'test_user',\n",
    "        'password': 'test_password',\n",
    "        'email': 'test@example.com'\n",
    "    }\n",
    "    \n",
    "    try:\n",
    "        response = requests.post(f'{BASE_URL}/auth/register', json=register_data)\n",
    "        print('注册响应:', response.status_code)\n",
    "        print(response.json())\n",
    "    except Exception as e:\n",
    "        print('注册测试失败:', str(e))\n",
    "    \n",
    "    # 测试登录\n",
    "    login_data = {\n",
    "        'username': 'test_user',\n",
    "        'password': 'test_password'\n",
    "    }\n",
    "    \n",
    "    try:\n",
    "        response = requests.post(f'{BASE_URL}/auth/login', json=login_data)\n",
    "        print('\\n登录响应:', response.status_code)\n",
    "        print(response.json())\n",
    "        return response.json().get('token')\n",
    "    except Exception as e:\n",
    "        print('登录测试失败:', str(e))\n",
    "        return None\n",
    "\n",
    "# 运行认证测试\n",
    "token = test_auth()\n"
   ]
  },
  {
   "cell_type": "raw",
   "metadata": {
    "vscode": {
     "languageId": "raw"
    }
   },
   "source": [
    "## 2. 用户功能测试\n"
   ]
  },
  {
   "cell_type": "code",
   "execution_count": null,
   "metadata": {},
   "outputs": [],
   "source": [
    "def test_user_functions(token):\n",
    "    if not token:\n",
    "        print('没有有效的认证令牌，跳过用户功能测试')\n",
    "        return\n",
    "    \n",
    "    headers = {'Authorization': f'Bearer {token}'}\n",
    "    \n",
    "    # 测试获取用户信息\n",
    "    try:\n",
    "        response = requests.get(f'{BASE_URL}/user/profile', headers=headers)\n",
    "        print('获取用户信息响应:', response.status_code)\n",
    "        print(response.json())\n",
    "    except Exception as e:\n",
    "        print('获取用户信息测试失败:', str(e))\n",
    "    \n",
    "    # 测试更新用户信息\n",
    "    update_data = {\n",
    "        'name': 'Updated Name',\n",
    "        'email': 'updated@example.com'\n",
    "    }\n",
    "    \n",
    "    try:\n",
    "        response = requests.put(f'{BASE_URL}/user/profile', headers=headers, json=update_data)\n",
    "        print('\\n更新用户信息响应:', response.status_code)\n",
    "        print(response.json())\n",
    "    except Exception as e:\n",
    "        print('更新用户信息测试失败:', str(e))\n",
    "\n",
    "# 运行用户功能测试\n",
    "test_user_functions(token)\n"
   ]
  },
  {
   "cell_type": "raw",
   "metadata": {
    "vscode": {
     "languageId": "raw"
    }
   },
   "source": [
    "## 3. 管理员功能测试\n"
   ]
  },
  {
   "cell_type": "code",
   "execution_count": null,
   "metadata": {},
   "outputs": [],
   "source": [
    "def test_admin_functions(token):\n",
    "    if not token:\n",
    "        print('没有有效的认证令牌，跳过管理员功能测试')\n",
    "        return\n",
    "    \n",
    "    headers = {'Authorization': f'Bearer {token}'}\n",
    "    \n",
    "    # 测试获取所有用户列表\n",
    "    try:\n",
    "        response = requests.get(f'{BASE_URL}/admin/users', headers=headers)\n",
    "        print('获取用户列表响应:', response.status_code)\n",
    "        print(response.json())\n",
    "    except Exception as e:\n",
    "        print('获取用户列表测试失败:', str(e))\n",
    "\n",
    "# 运行管理员功能测试\n",
    "test_admin_functions(token)\n"
   ]
  },
  {
   "cell_type": "raw",
   "metadata": {
    "vscode": {
     "languageId": "raw"
    }
   },
   "source": [
    "## 4. 文件上传测试\n"
   ]
  },
  {
   "cell_type": "code",
   "execution_count": null,
   "metadata": {},
   "outputs": [],
   "source": [
    "def test_file_upload(token):\n",
    "    if not token:\n",
    "        print('没有有效的认证令牌，跳过文件上传测试')\n",
    "        return\n",
    "    \n",
    "    headers = {'Authorization': f'Bearer {token}'}\n",
    "    \n",
    "    # 创建测试文件\n",
    "    test_file_content = 'This is a test file content'\n",
    "    with open('test_file.txt', 'w') as f:\n",
    "        f.write(test_file_content)\n",
    "    \n",
    "    # 测试文件上传\n",
    "    try:\n",
    "        files = {'file': ('test_file.txt', open('test_file.txt', 'rb'))}\n",
    "        response = requests.post(f'{BASE_URL}/user/upload', headers=headers, files=files)\n",
    "        print('文件上传响应:', response.status_code)\n",
    "        print(response.json())\n",
    "    except Exception as e:\n",
    "        print('文件上传测试失败:', str(e))\n",
    "    finally:\n",
    "        # 清理测试文件\n",
    "        import os\n",
    "        if os.path.exists('test_file.txt'):\n",
    "            os.remove('test_file.txt')\n",
    "\n",
    "# 运行文件上传测试\n",
    "test_file_upload(token)\n"
   ]
  }
 ],
 "metadata": {
  "kernelspec": {
   "display_name": "Python 3",
   "language": "python",
   "name": "python3"
  },
  "language_info": {
   "codemirror_mode": {
    "name": "ipython",
    "version": 3
   },
   "file_extension": ".py",
   "mimetype": "text/x-python",
   "name": "python",
   "nbconvert_exporter": "python",
   "pygments_lexer": "ipython3",
   "version": "3.11.5"
  }
 },
 "nbformat": 4,
 "nbformat_minor": 2
}
